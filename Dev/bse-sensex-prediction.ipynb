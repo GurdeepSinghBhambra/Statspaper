{
 "cells": [
  {
   "cell_type": "code",
   "execution_count": 69,
   "metadata": {
    "_cell_guid": "b1076dfc-b9ad-4769-8c92-a6c4dae69d19",
    "_uuid": "8f2839f25d086af736a60e9eeb907d3b93b6e0e5"
   },
   "outputs": [
    {
     "data": {
      "text/html": [
       "<div>\n",
       "<style scoped>\n",
       "    .dataframe tbody tr th:only-of-type {\n",
       "        vertical-align: middle;\n",
       "    }\n",
       "\n",
       "    .dataframe tbody tr th {\n",
       "        vertical-align: top;\n",
       "    }\n",
       "\n",
       "    .dataframe thead th {\n",
       "        text-align: right;\n",
       "    }\n",
       "</style>\n",
       "<table border=\"1\" class=\"dataframe\">\n",
       "  <thead>\n",
       "    <tr style=\"text-align: right;\">\n",
       "      <th></th>\n",
       "      <th>Date</th>\n",
       "      <th>Open</th>\n",
       "      <th>High</th>\n",
       "      <th>Low</th>\n",
       "      <th>Close</th>\n",
       "    </tr>\n",
       "  </thead>\n",
       "  <tbody>\n",
       "    <tr>\n",
       "      <th>1</th>\n",
       "      <td>2010-01-04</td>\n",
       "      <td>17473.45</td>\n",
       "      <td>17582.84</td>\n",
       "      <td>17378.38</td>\n",
       "      <td>17558.73</td>\n",
       "    </tr>\n",
       "    <tr>\n",
       "      <th>2</th>\n",
       "      <td>2010-01-05</td>\n",
       "      <td>17555.77</td>\n",
       "      <td>17729.78</td>\n",
       "      <td>17555.77</td>\n",
       "      <td>17686.24</td>\n",
       "    </tr>\n",
       "    <tr>\n",
       "      <th>3</th>\n",
       "      <td>2010-01-06</td>\n",
       "      <td>17719.47</td>\n",
       "      <td>17790.33</td>\n",
       "      <td>17636.71</td>\n",
       "      <td>17701.13</td>\n",
       "    </tr>\n",
       "    <tr>\n",
       "      <th>4</th>\n",
       "      <td>2010-01-07</td>\n",
       "      <td>17701.97</td>\n",
       "      <td>17733.34</td>\n",
       "      <td>17566.54</td>\n",
       "      <td>17615.72</td>\n",
       "    </tr>\n",
       "    <tr>\n",
       "      <th>5</th>\n",
       "      <td>2010-01-08</td>\n",
       "      <td>17603.87</td>\n",
       "      <td>17658.12</td>\n",
       "      <td>17508.96</td>\n",
       "      <td>17540.29</td>\n",
       "    </tr>\n",
       "  </tbody>\n",
       "</table>\n",
       "</div>"
      ],
      "text/plain": [
       "        Date      Open      High       Low     Close\n",
       "1 2010-01-04  17473.45  17582.84  17378.38  17558.73\n",
       "2 2010-01-05  17555.77  17729.78  17555.77  17686.24\n",
       "3 2010-01-06  17719.47  17790.33  17636.71  17701.13\n",
       "4 2010-01-07  17701.97  17733.34  17566.54  17615.72\n",
       "5 2010-01-08  17603.87  17658.12  17508.96  17540.29"
      ]
     },
     "execution_count": 69,
     "metadata": {},
     "output_type": "execute_result"
    }
   ],
   "source": [
    "import numpy as np # linear algebra\n",
    "import pandas as pd # data processing, CSV file I/O (e.g. pd.read_csv)\n",
    "import matplotlib.pyplot as plt\n",
    "%matplotlib inline\n",
    "import seaborn as sns\n",
    "import os\n",
    "df=pd.read_csv(\"datasets\\\\BSEForDate.csv\", names=['Date', 'Open', 'High', 'Low', 'Close'])\n",
    "df.drop(df.index[0], inplace=True)\n",
    "df['Date'] = df['Date'].astype('datetime64[ns]')\n",
    "df[\"Open\"] = df[\"Open\"].astype(\"float\")\n",
    "df[\"Low\"] = df[\"Low\"].astype(\"float\")\n",
    "df[\"High\"] = df[\"High\"].astype(\"float\")\n",
    "df[\"Close\"] = df[\"Close\"].astype(\"float\")\n",
    "df.head()"
   ]
  },
  {
   "cell_type": "code",
   "execution_count": 70,
   "metadata": {},
   "outputs": [
    {
     "name": "stdout",
     "output_type": "stream",
     "text": [
      "<class 'pandas.core.frame.DataFrame'>\n",
      "Int64Index: 2526 entries, 1 to 2526\n",
      "Data columns (total 5 columns):\n",
      " #   Column  Non-Null Count  Dtype         \n",
      "---  ------  --------------  -----         \n",
      " 0   Date    2526 non-null   datetime64[ns]\n",
      " 1   Open    2526 non-null   float64       \n",
      " 2   High    2526 non-null   float64       \n",
      " 3   Low     2526 non-null   float64       \n",
      " 4   Close   2526 non-null   float64       \n",
      "dtypes: datetime64[ns](1), float64(4)\n",
      "memory usage: 118.4 KB\n"
     ]
    }
   ],
   "source": [
    "df.info()"
   ]
  },
  {
   "cell_type": "code",
   "execution_count": 71,
   "metadata": {},
   "outputs": [
    {
     "data": {
      "text/plain": [
       "Index(['Date', 'Open', 'High', 'Low', 'Close'], dtype='object')"
      ]
     },
     "execution_count": 71,
     "metadata": {},
     "output_type": "execute_result"
    }
   ],
   "source": [
    "#data columns\n",
    "df.columns"
   ]
  },
  {
   "cell_type": "code",
   "execution_count": 72,
   "metadata": {},
   "outputs": [
    {
     "data": {
      "text/plain": [
       "Date     0\n",
       "Open     0\n",
       "High     0\n",
       "Low      0\n",
       "Close    0\n",
       "dtype: int64"
      ]
     },
     "execution_count": 72,
     "metadata": {},
     "output_type": "execute_result"
    }
   ],
   "source": [
    "#check for missing values\n",
    "df.isnull().sum()"
   ]
  },
  {
   "cell_type": "code",
   "execution_count": 75,
   "metadata": {},
   "outputs": [
    {
     "data": {
      "text/plain": [
       "pandas.core.indexes.datetimes.DatetimeIndex"
      ]
     },
     "execution_count": 75,
     "metadata": {},
     "output_type": "execute_result"
    }
   ],
   "source": [
    "#lets see if date is a date time series\n",
    "type(df.index)"
   ]
  },
  {
   "cell_type": "code",
   "execution_count": 74,
   "metadata": {
    "_cell_guid": "79c7e3d0-c299-4dcb-8224-4455121ee9b0",
    "_uuid": "d629ff2d2480ee46fbb7e2d37f6b5fab8052498a"
   },
   "outputs": [],
   "source": [
    "#lets make Date as index\n",
    "df.set_index(\"Date\",inplace=True)"
   ]
  },
  {
   "cell_type": "code",
   "execution_count": 76,
   "metadata": {},
   "outputs": [
    {
     "data": {
      "text/plain": [
       "DatetimeIndex(['2010-01-04', '2010-01-05', '2010-01-06', '2010-01-07',\n",
       "               '2010-01-08', '2010-01-11', '2010-01-12', '2010-01-13',\n",
       "               '2010-01-14', '2010-01-15',\n",
       "               ...\n",
       "               '2020-02-24', '2020-02-25', '2020-02-26', '2020-02-27',\n",
       "               '2020-02-28', '2020-03-02', '2020-03-03', '2020-03-04',\n",
       "               '2020-03-05', '2020-03-06'],\n",
       "              dtype='datetime64[ns]', name='Date', length=2526, freq=None)"
      ]
     },
     "execution_count": 76,
     "metadata": {},
     "output_type": "execute_result"
    }
   ],
   "source": [
    "df.index"
   ]
  },
  {
   "cell_type": "code",
   "execution_count": 77,
   "metadata": {},
   "outputs": [
    {
     "data": {
      "text/html": [
       "<div>\n",
       "<style scoped>\n",
       "    .dataframe tbody tr th:only-of-type {\n",
       "        vertical-align: middle;\n",
       "    }\n",
       "\n",
       "    .dataframe tbody tr th {\n",
       "        vertical-align: top;\n",
       "    }\n",
       "\n",
       "    .dataframe thead th {\n",
       "        text-align: right;\n",
       "    }\n",
       "</style>\n",
       "<table border=\"1\" class=\"dataframe\">\n",
       "  <thead>\n",
       "    <tr style=\"text-align: right;\">\n",
       "      <th></th>\n",
       "      <th>Open</th>\n",
       "      <th>High</th>\n",
       "      <th>Low</th>\n",
       "      <th>Close</th>\n",
       "    </tr>\n",
       "    <tr>\n",
       "      <th>Date</th>\n",
       "      <th></th>\n",
       "      <th></th>\n",
       "      <th></th>\n",
       "      <th></th>\n",
       "    </tr>\n",
       "  </thead>\n",
       "  <tbody>\n",
       "    <tr>\n",
       "      <th>2010-01-04</th>\n",
       "      <td>17473.45</td>\n",
       "      <td>17582.84</td>\n",
       "      <td>17378.38</td>\n",
       "      <td>17558.73</td>\n",
       "    </tr>\n",
       "    <tr>\n",
       "      <th>2010-01-05</th>\n",
       "      <td>17555.77</td>\n",
       "      <td>17729.78</td>\n",
       "      <td>17555.77</td>\n",
       "      <td>17686.24</td>\n",
       "    </tr>\n",
       "    <tr>\n",
       "      <th>2010-01-06</th>\n",
       "      <td>17719.47</td>\n",
       "      <td>17790.33</td>\n",
       "      <td>17636.71</td>\n",
       "      <td>17701.13</td>\n",
       "    </tr>\n",
       "    <tr>\n",
       "      <th>2010-01-07</th>\n",
       "      <td>17701.97</td>\n",
       "      <td>17733.34</td>\n",
       "      <td>17566.54</td>\n",
       "      <td>17615.72</td>\n",
       "    </tr>\n",
       "    <tr>\n",
       "      <th>2010-01-08</th>\n",
       "      <td>17603.87</td>\n",
       "      <td>17658.12</td>\n",
       "      <td>17508.96</td>\n",
       "      <td>17540.29</td>\n",
       "    </tr>\n",
       "  </tbody>\n",
       "</table>\n",
       "</div>"
      ],
      "text/plain": [
       "                Open      High       Low     Close\n",
       "Date                                              \n",
       "2010-01-04  17473.45  17582.84  17378.38  17558.73\n",
       "2010-01-05  17555.77  17729.78  17555.77  17686.24\n",
       "2010-01-06  17719.47  17790.33  17636.71  17701.13\n",
       "2010-01-07  17701.97  17733.34  17566.54  17615.72\n",
       "2010-01-08  17603.87  17658.12  17508.96  17540.29"
      ]
     },
     "execution_count": 77,
     "metadata": {},
     "output_type": "execute_result"
    }
   ],
   "source": [
    "df.head()"
   ]
  },
  {
   "cell_type": "code",
   "execution_count": 78,
   "metadata": {},
   "outputs": [
    {
     "data": {
      "text/html": [
       "<div>\n",
       "<style scoped>\n",
       "    .dataframe tbody tr th:only-of-type {\n",
       "        vertical-align: middle;\n",
       "    }\n",
       "\n",
       "    .dataframe tbody tr th {\n",
       "        vertical-align: top;\n",
       "    }\n",
       "\n",
       "    .dataframe thead th {\n",
       "        text-align: right;\n",
       "    }\n",
       "</style>\n",
       "<table border=\"1\" class=\"dataframe\">\n",
       "  <thead>\n",
       "    <tr style=\"text-align: right;\">\n",
       "      <th></th>\n",
       "      <th>Open</th>\n",
       "      <th>High</th>\n",
       "      <th>Low</th>\n",
       "      <th>Close</th>\n",
       "    </tr>\n",
       "    <tr>\n",
       "      <th>Date</th>\n",
       "      <th></th>\n",
       "      <th></th>\n",
       "      <th></th>\n",
       "      <th></th>\n",
       "    </tr>\n",
       "  </thead>\n",
       "  <tbody>\n",
       "    <tr>\n",
       "      <th>2010-01-04</th>\n",
       "      <td>17473.45</td>\n",
       "      <td>17582.84</td>\n",
       "      <td>17378.38</td>\n",
       "      <td>17558.73</td>\n",
       "    </tr>\n",
       "    <tr>\n",
       "      <th>2010-01-05</th>\n",
       "      <td>17555.77</td>\n",
       "      <td>17729.78</td>\n",
       "      <td>17555.77</td>\n",
       "      <td>17686.24</td>\n",
       "    </tr>\n",
       "    <tr>\n",
       "      <th>2010-01-06</th>\n",
       "      <td>17719.47</td>\n",
       "      <td>17790.33</td>\n",
       "      <td>17636.71</td>\n",
       "      <td>17701.13</td>\n",
       "    </tr>\n",
       "    <tr>\n",
       "      <th>2010-01-07</th>\n",
       "      <td>17701.97</td>\n",
       "      <td>17733.34</td>\n",
       "      <td>17566.54</td>\n",
       "      <td>17615.72</td>\n",
       "    </tr>\n",
       "    <tr>\n",
       "      <th>2010-01-08</th>\n",
       "      <td>17603.87</td>\n",
       "      <td>17658.12</td>\n",
       "      <td>17508.96</td>\n",
       "      <td>17540.29</td>\n",
       "    </tr>\n",
       "    <tr>\n",
       "      <th>2010-01-11</th>\n",
       "      <td>17724.59</td>\n",
       "      <td>17776.57</td>\n",
       "      <td>17500.79</td>\n",
       "      <td>17526.71</td>\n",
       "    </tr>\n",
       "    <tr>\n",
       "      <th>2010-01-12</th>\n",
       "      <td>17534.10</td>\n",
       "      <td>17612.00</td>\n",
       "      <td>17392.55</td>\n",
       "      <td>17422.51</td>\n",
       "    </tr>\n",
       "    <tr>\n",
       "      <th>2010-01-13</th>\n",
       "      <td>17368.03</td>\n",
       "      <td>17528.31</td>\n",
       "      <td>17276.46</td>\n",
       "      <td>17509.80</td>\n",
       "    </tr>\n",
       "    <tr>\n",
       "      <th>2010-01-14</th>\n",
       "      <td>17525.71</td>\n",
       "      <td>17628.04</td>\n",
       "      <td>17525.71</td>\n",
       "      <td>17584.87</td>\n",
       "    </tr>\n",
       "    <tr>\n",
       "      <th>2010-01-15</th>\n",
       "      <td>17604.31</td>\n",
       "      <td>17639.85</td>\n",
       "      <td>17529.11</td>\n",
       "      <td>17554.30</td>\n",
       "    </tr>\n",
       "    <tr>\n",
       "      <th>2010-01-18</th>\n",
       "      <td>17538.72</td>\n",
       "      <td>17712.60</td>\n",
       "      <td>17505.50</td>\n",
       "      <td>17641.08</td>\n",
       "    </tr>\n",
       "    <tr>\n",
       "      <th>2010-01-19</th>\n",
       "      <td>17650.82</td>\n",
       "      <td>17664.86</td>\n",
       "      <td>17463.78</td>\n",
       "      <td>17486.06</td>\n",
       "    </tr>\n",
       "    <tr>\n",
       "      <th>2010-01-20</th>\n",
       "      <td>17486.69</td>\n",
       "      <td>17590.59</td>\n",
       "      <td>17425.05</td>\n",
       "      <td>17474.49</td>\n",
       "    </tr>\n",
       "    <tr>\n",
       "      <th>2010-01-21</th>\n",
       "      <td>17474.49</td>\n",
       "      <td>17474.49</td>\n",
       "      <td>17025.26</td>\n",
       "      <td>17051.14</td>\n",
       "    </tr>\n",
       "    <tr>\n",
       "      <th>2010-01-22</th>\n",
       "      <td>16978.36</td>\n",
       "      <td>17000.33</td>\n",
       "      <td>16608.09</td>\n",
       "      <td>16859.68</td>\n",
       "    </tr>\n",
       "    <tr>\n",
       "      <th>2010-01-25</th>\n",
       "      <td>16847.70</td>\n",
       "      <td>16877.77</td>\n",
       "      <td>16705.56</td>\n",
       "      <td>16780.46</td>\n",
       "    </tr>\n",
       "    <tr>\n",
       "      <th>2010-01-27</th>\n",
       "      <td>16708.60</td>\n",
       "      <td>16708.60</td>\n",
       "      <td>16230.85</td>\n",
       "      <td>16289.82</td>\n",
       "    </tr>\n",
       "    <tr>\n",
       "      <th>2010-01-28</th>\n",
       "      <td>16317.16</td>\n",
       "      <td>16524.69</td>\n",
       "      <td>16182.14</td>\n",
       "      <td>16306.87</td>\n",
       "    </tr>\n",
       "    <tr>\n",
       "      <th>2010-01-29</th>\n",
       "      <td>16253.82</td>\n",
       "      <td>16390.31</td>\n",
       "      <td>15982.08</td>\n",
       "      <td>16357.96</td>\n",
       "    </tr>\n",
       "    <tr>\n",
       "      <th>2010-02-01</th>\n",
       "      <td>16339.32</td>\n",
       "      <td>16422.40</td>\n",
       "      <td>16160.80</td>\n",
       "      <td>16356.03</td>\n",
       "    </tr>\n",
       "    <tr>\n",
       "      <th>2010-02-02</th>\n",
       "      <td>16368.44</td>\n",
       "      <td>16525.98</td>\n",
       "      <td>16129.11</td>\n",
       "      <td>16163.44</td>\n",
       "    </tr>\n",
       "    <tr>\n",
       "      <th>2010-02-03</th>\n",
       "      <td>16210.25</td>\n",
       "      <td>16552.99</td>\n",
       "      <td>16210.25</td>\n",
       "      <td>16496.05</td>\n",
       "    </tr>\n",
       "    <tr>\n",
       "      <th>2010-02-04</th>\n",
       "      <td>16500.29</td>\n",
       "      <td>16508.22</td>\n",
       "      <td>16188.80</td>\n",
       "      <td>16224.95</td>\n",
       "    </tr>\n",
       "    <tr>\n",
       "      <th>2010-02-05</th>\n",
       "      <td>16222.56</td>\n",
       "      <td>16222.56</td>\n",
       "      <td>15725.43</td>\n",
       "      <td>15790.93</td>\n",
       "    </tr>\n",
       "    <tr>\n",
       "      <th>2010-02-06</th>\n",
       "      <td>15807.75</td>\n",
       "      <td>15951.07</td>\n",
       "      <td>15807.75</td>\n",
       "      <td>15915.65</td>\n",
       "    </tr>\n",
       "    <tr>\n",
       "      <th>2010-02-08</th>\n",
       "      <td>15931.34</td>\n",
       "      <td>16061.41</td>\n",
       "      <td>15651.99</td>\n",
       "      <td>15935.61</td>\n",
       "    </tr>\n",
       "    <tr>\n",
       "      <th>2010-02-09</th>\n",
       "      <td>15940.73</td>\n",
       "      <td>16094.13</td>\n",
       "      <td>15862.90</td>\n",
       "      <td>16042.18</td>\n",
       "    </tr>\n",
       "    <tr>\n",
       "      <th>2010-02-10</th>\n",
       "      <td>16042.18</td>\n",
       "      <td>16141.13</td>\n",
       "      <td>15892.01</td>\n",
       "      <td>15922.17</td>\n",
       "    </tr>\n",
       "    <tr>\n",
       "      <th>2010-02-11</th>\n",
       "      <td>15928.28</td>\n",
       "      <td>16202.87</td>\n",
       "      <td>15928.28</td>\n",
       "      <td>16152.59</td>\n",
       "    </tr>\n",
       "    <tr>\n",
       "      <th>2010-02-15</th>\n",
       "      <td>16186.90</td>\n",
       "      <td>16227.04</td>\n",
       "      <td>16011.82</td>\n",
       "      <td>16038.35</td>\n",
       "    </tr>\n",
       "    <tr>\n",
       "      <th>2010-02-16</th>\n",
       "      <td>16042.18</td>\n",
       "      <td>16310.39</td>\n",
       "      <td>16021.29</td>\n",
       "      <td>16226.68</td>\n",
       "    </tr>\n",
       "    <tr>\n",
       "      <th>2010-02-17</th>\n",
       "      <td>16228.91</td>\n",
       "      <td>16480.89</td>\n",
       "      <td>16228.91</td>\n",
       "      <td>16428.91</td>\n",
       "    </tr>\n",
       "    <tr>\n",
       "      <th>2010-02-18</th>\n",
       "      <td>16421.20</td>\n",
       "      <td>16452.51</td>\n",
       "      <td>16287.17</td>\n",
       "      <td>16327.84</td>\n",
       "    </tr>\n",
       "    <tr>\n",
       "      <th>2010-02-19</th>\n",
       "      <td>16256.53</td>\n",
       "      <td>16301.94</td>\n",
       "      <td>16074.58</td>\n",
       "      <td>16191.63</td>\n",
       "    </tr>\n",
       "    <tr>\n",
       "      <th>2010-02-22</th>\n",
       "      <td>16191.32</td>\n",
       "      <td>16423.23</td>\n",
       "      <td>16191.32</td>\n",
       "      <td>16237.05</td>\n",
       "    </tr>\n",
       "    <tr>\n",
       "      <th>2010-02-23</th>\n",
       "      <td>16213.14</td>\n",
       "      <td>16324.93</td>\n",
       "      <td>16178.91</td>\n",
       "      <td>16286.32</td>\n",
       "    </tr>\n",
       "    <tr>\n",
       "      <th>2010-02-24</th>\n",
       "      <td>16218.68</td>\n",
       "      <td>16328.44</td>\n",
       "      <td>16187.44</td>\n",
       "      <td>16255.97</td>\n",
       "    </tr>\n",
       "    <tr>\n",
       "      <th>2010-02-25</th>\n",
       "      <td>16264.10</td>\n",
       "      <td>16329.33</td>\n",
       "      <td>16167.13</td>\n",
       "      <td>16254.20</td>\n",
       "    </tr>\n",
       "    <tr>\n",
       "      <th>2010-02-26</th>\n",
       "      <td>16255.33</td>\n",
       "      <td>16669.25</td>\n",
       "      <td>16249.67</td>\n",
       "      <td>16429.55</td>\n",
       "    </tr>\n",
       "  </tbody>\n",
       "</table>\n",
       "</div>"
      ],
      "text/plain": [
       "                Open      High       Low     Close\n",
       "Date                                              \n",
       "2010-01-04  17473.45  17582.84  17378.38  17558.73\n",
       "2010-01-05  17555.77  17729.78  17555.77  17686.24\n",
       "2010-01-06  17719.47  17790.33  17636.71  17701.13\n",
       "2010-01-07  17701.97  17733.34  17566.54  17615.72\n",
       "2010-01-08  17603.87  17658.12  17508.96  17540.29\n",
       "2010-01-11  17724.59  17776.57  17500.79  17526.71\n",
       "2010-01-12  17534.10  17612.00  17392.55  17422.51\n",
       "2010-01-13  17368.03  17528.31  17276.46  17509.80\n",
       "2010-01-14  17525.71  17628.04  17525.71  17584.87\n",
       "2010-01-15  17604.31  17639.85  17529.11  17554.30\n",
       "2010-01-18  17538.72  17712.60  17505.50  17641.08\n",
       "2010-01-19  17650.82  17664.86  17463.78  17486.06\n",
       "2010-01-20  17486.69  17590.59  17425.05  17474.49\n",
       "2010-01-21  17474.49  17474.49  17025.26  17051.14\n",
       "2010-01-22  16978.36  17000.33  16608.09  16859.68\n",
       "2010-01-25  16847.70  16877.77  16705.56  16780.46\n",
       "2010-01-27  16708.60  16708.60  16230.85  16289.82\n",
       "2010-01-28  16317.16  16524.69  16182.14  16306.87\n",
       "2010-01-29  16253.82  16390.31  15982.08  16357.96\n",
       "2010-02-01  16339.32  16422.40  16160.80  16356.03\n",
       "2010-02-02  16368.44  16525.98  16129.11  16163.44\n",
       "2010-02-03  16210.25  16552.99  16210.25  16496.05\n",
       "2010-02-04  16500.29  16508.22  16188.80  16224.95\n",
       "2010-02-05  16222.56  16222.56  15725.43  15790.93\n",
       "2010-02-06  15807.75  15951.07  15807.75  15915.65\n",
       "2010-02-08  15931.34  16061.41  15651.99  15935.61\n",
       "2010-02-09  15940.73  16094.13  15862.90  16042.18\n",
       "2010-02-10  16042.18  16141.13  15892.01  15922.17\n",
       "2010-02-11  15928.28  16202.87  15928.28  16152.59\n",
       "2010-02-15  16186.90  16227.04  16011.82  16038.35\n",
       "2010-02-16  16042.18  16310.39  16021.29  16226.68\n",
       "2010-02-17  16228.91  16480.89  16228.91  16428.91\n",
       "2010-02-18  16421.20  16452.51  16287.17  16327.84\n",
       "2010-02-19  16256.53  16301.94  16074.58  16191.63\n",
       "2010-02-22  16191.32  16423.23  16191.32  16237.05\n",
       "2010-02-23  16213.14  16324.93  16178.91  16286.32\n",
       "2010-02-24  16218.68  16328.44  16187.44  16255.97\n",
       "2010-02-25  16264.10  16329.33  16167.13  16254.20\n",
       "2010-02-26  16255.33  16669.25  16249.67  16429.55"
      ]
     },
     "execution_count": 78,
     "metadata": {},
     "output_type": "execute_result"
    }
   ],
   "source": [
    "#lets see date for the month of January and february\n",
    "df[\"2010-01\":\"2010-02\"]"
   ]
  },
  {
   "cell_type": "code",
   "execution_count": 79,
   "metadata": {},
   "outputs": [
    {
     "data": {
      "text/html": [
       "<div>\n",
       "<style scoped>\n",
       "    .dataframe tbody tr th:only-of-type {\n",
       "        vertical-align: middle;\n",
       "    }\n",
       "\n",
       "    .dataframe tbody tr th {\n",
       "        vertical-align: top;\n",
       "    }\n",
       "\n",
       "    .dataframe thead th {\n",
       "        text-align: right;\n",
       "    }\n",
       "</style>\n",
       "<table border=\"1\" class=\"dataframe\">\n",
       "  <thead>\n",
       "    <tr style=\"text-align: right;\">\n",
       "      <th></th>\n",
       "      <th>Open</th>\n",
       "      <th>High</th>\n",
       "      <th>Low</th>\n",
       "      <th>Close</th>\n",
       "    </tr>\n",
       "    <tr>\n",
       "      <th>Date</th>\n",
       "      <th></th>\n",
       "      <th></th>\n",
       "      <th></th>\n",
       "      <th></th>\n",
       "    </tr>\n",
       "  </thead>\n",
       "  <tbody>\n",
       "    <tr>\n",
       "      <th>2010-01-04</th>\n",
       "      <td>17473.45</td>\n",
       "      <td>17582.84</td>\n",
       "      <td>17378.38</td>\n",
       "      <td>17558.73</td>\n",
       "    </tr>\n",
       "    <tr>\n",
       "      <th>2010-01-05</th>\n",
       "      <td>17555.77</td>\n",
       "      <td>17729.78</td>\n",
       "      <td>17555.77</td>\n",
       "      <td>17686.24</td>\n",
       "    </tr>\n",
       "    <tr>\n",
       "      <th>2010-01-06</th>\n",
       "      <td>17719.47</td>\n",
       "      <td>17790.33</td>\n",
       "      <td>17636.71</td>\n",
       "      <td>17701.13</td>\n",
       "    </tr>\n",
       "    <tr>\n",
       "      <th>2010-01-07</th>\n",
       "      <td>17701.97</td>\n",
       "      <td>17733.34</td>\n",
       "      <td>17566.54</td>\n",
       "      <td>17615.72</td>\n",
       "    </tr>\n",
       "    <tr>\n",
       "      <th>2010-01-08</th>\n",
       "      <td>17603.87</td>\n",
       "      <td>17658.12</td>\n",
       "      <td>17508.96</td>\n",
       "      <td>17540.29</td>\n",
       "    </tr>\n",
       "    <tr>\n",
       "      <th>2010-01-11</th>\n",
       "      <td>17724.59</td>\n",
       "      <td>17776.57</td>\n",
       "      <td>17500.79</td>\n",
       "      <td>17526.71</td>\n",
       "    </tr>\n",
       "    <tr>\n",
       "      <th>2010-01-12</th>\n",
       "      <td>17534.10</td>\n",
       "      <td>17612.00</td>\n",
       "      <td>17392.55</td>\n",
       "      <td>17422.51</td>\n",
       "    </tr>\n",
       "    <tr>\n",
       "      <th>2010-01-13</th>\n",
       "      <td>17368.03</td>\n",
       "      <td>17528.31</td>\n",
       "      <td>17276.46</td>\n",
       "      <td>17509.80</td>\n",
       "    </tr>\n",
       "    <tr>\n",
       "      <th>2010-01-14</th>\n",
       "      <td>17525.71</td>\n",
       "      <td>17628.04</td>\n",
       "      <td>17525.71</td>\n",
       "      <td>17584.87</td>\n",
       "    </tr>\n",
       "    <tr>\n",
       "      <th>2010-01-15</th>\n",
       "      <td>17604.31</td>\n",
       "      <td>17639.85</td>\n",
       "      <td>17529.11</td>\n",
       "      <td>17554.30</td>\n",
       "    </tr>\n",
       "    <tr>\n",
       "      <th>2010-01-18</th>\n",
       "      <td>17538.72</td>\n",
       "      <td>17712.60</td>\n",
       "      <td>17505.50</td>\n",
       "      <td>17641.08</td>\n",
       "    </tr>\n",
       "    <tr>\n",
       "      <th>2010-01-19</th>\n",
       "      <td>17650.82</td>\n",
       "      <td>17664.86</td>\n",
       "      <td>17463.78</td>\n",
       "      <td>17486.06</td>\n",
       "    </tr>\n",
       "    <tr>\n",
       "      <th>2010-01-20</th>\n",
       "      <td>17486.69</td>\n",
       "      <td>17590.59</td>\n",
       "      <td>17425.05</td>\n",
       "      <td>17474.49</td>\n",
       "    </tr>\n",
       "    <tr>\n",
       "      <th>2010-01-21</th>\n",
       "      <td>17474.49</td>\n",
       "      <td>17474.49</td>\n",
       "      <td>17025.26</td>\n",
       "      <td>17051.14</td>\n",
       "    </tr>\n",
       "    <tr>\n",
       "      <th>2010-01-22</th>\n",
       "      <td>16978.36</td>\n",
       "      <td>17000.33</td>\n",
       "      <td>16608.09</td>\n",
       "      <td>16859.68</td>\n",
       "    </tr>\n",
       "    <tr>\n",
       "      <th>2010-01-25</th>\n",
       "      <td>16847.70</td>\n",
       "      <td>16877.77</td>\n",
       "      <td>16705.56</td>\n",
       "      <td>16780.46</td>\n",
       "    </tr>\n",
       "    <tr>\n",
       "      <th>2010-01-27</th>\n",
       "      <td>16708.60</td>\n",
       "      <td>16708.60</td>\n",
       "      <td>16230.85</td>\n",
       "      <td>16289.82</td>\n",
       "    </tr>\n",
       "    <tr>\n",
       "      <th>2010-01-28</th>\n",
       "      <td>16317.16</td>\n",
       "      <td>16524.69</td>\n",
       "      <td>16182.14</td>\n",
       "      <td>16306.87</td>\n",
       "    </tr>\n",
       "    <tr>\n",
       "      <th>2010-01-29</th>\n",
       "      <td>16253.82</td>\n",
       "      <td>16390.31</td>\n",
       "      <td>15982.08</td>\n",
       "      <td>16357.96</td>\n",
       "    </tr>\n",
       "  </tbody>\n",
       "</table>\n",
       "</div>"
      ],
      "text/plain": [
       "                Open      High       Low     Close\n",
       "Date                                              \n",
       "2010-01-04  17473.45  17582.84  17378.38  17558.73\n",
       "2010-01-05  17555.77  17729.78  17555.77  17686.24\n",
       "2010-01-06  17719.47  17790.33  17636.71  17701.13\n",
       "2010-01-07  17701.97  17733.34  17566.54  17615.72\n",
       "2010-01-08  17603.87  17658.12  17508.96  17540.29\n",
       "2010-01-11  17724.59  17776.57  17500.79  17526.71\n",
       "2010-01-12  17534.10  17612.00  17392.55  17422.51\n",
       "2010-01-13  17368.03  17528.31  17276.46  17509.80\n",
       "2010-01-14  17525.71  17628.04  17525.71  17584.87\n",
       "2010-01-15  17604.31  17639.85  17529.11  17554.30\n",
       "2010-01-18  17538.72  17712.60  17505.50  17641.08\n",
       "2010-01-19  17650.82  17664.86  17463.78  17486.06\n",
       "2010-01-20  17486.69  17590.59  17425.05  17474.49\n",
       "2010-01-21  17474.49  17474.49  17025.26  17051.14\n",
       "2010-01-22  16978.36  17000.33  16608.09  16859.68\n",
       "2010-01-25  16847.70  16877.77  16705.56  16780.46\n",
       "2010-01-27  16708.60  16708.60  16230.85  16289.82\n",
       "2010-01-28  16317.16  16524.69  16182.14  16306.87\n",
       "2010-01-29  16253.82  16390.31  15982.08  16357.96"
      ]
     },
     "execution_count": 79,
     "metadata": {},
     "output_type": "execute_result"
    }
   ],
   "source": [
    "#lets see data of January only\n",
    "df[\"2010-01\"]"
   ]
  },
  {
   "cell_type": "code",
   "execution_count": 80,
   "metadata": {},
   "outputs": [],
   "source": [
    "df.sort_index(inplace=True)\n",
    "df_jan=df[\"2010-01\"] #January data in sorted way"
   ]
  },
  {
   "cell_type": "code",
   "execution_count": 81,
   "metadata": {},
   "outputs": [
    {
     "data": {
      "text/html": [
       "<div>\n",
       "<style scoped>\n",
       "    .dataframe tbody tr th:only-of-type {\n",
       "        vertical-align: middle;\n",
       "    }\n",
       "\n",
       "    .dataframe tbody tr th {\n",
       "        vertical-align: top;\n",
       "    }\n",
       "\n",
       "    .dataframe thead th {\n",
       "        text-align: right;\n",
       "    }\n",
       "</style>\n",
       "<table border=\"1\" class=\"dataframe\">\n",
       "  <thead>\n",
       "    <tr style=\"text-align: right;\">\n",
       "      <th></th>\n",
       "      <th>Open</th>\n",
       "      <th>High</th>\n",
       "      <th>Low</th>\n",
       "      <th>Close</th>\n",
       "    </tr>\n",
       "    <tr>\n",
       "      <th>Date</th>\n",
       "      <th></th>\n",
       "      <th></th>\n",
       "      <th></th>\n",
       "      <th></th>\n",
       "    </tr>\n",
       "  </thead>\n",
       "  <tbody>\n",
       "    <tr>\n",
       "      <th>2010-01-04</th>\n",
       "      <td>17473.45</td>\n",
       "      <td>17582.84</td>\n",
       "      <td>17378.38</td>\n",
       "      <td>17558.73</td>\n",
       "    </tr>\n",
       "    <tr>\n",
       "      <th>2010-01-05</th>\n",
       "      <td>17555.77</td>\n",
       "      <td>17729.78</td>\n",
       "      <td>17555.77</td>\n",
       "      <td>17686.24</td>\n",
       "    </tr>\n",
       "    <tr>\n",
       "      <th>2010-01-06</th>\n",
       "      <td>17719.47</td>\n",
       "      <td>17790.33</td>\n",
       "      <td>17636.71</td>\n",
       "      <td>17701.13</td>\n",
       "    </tr>\n",
       "    <tr>\n",
       "      <th>2010-01-07</th>\n",
       "      <td>17701.97</td>\n",
       "      <td>17733.34</td>\n",
       "      <td>17566.54</td>\n",
       "      <td>17615.72</td>\n",
       "    </tr>\n",
       "    <tr>\n",
       "      <th>2010-01-08</th>\n",
       "      <td>17603.87</td>\n",
       "      <td>17658.12</td>\n",
       "      <td>17508.96</td>\n",
       "      <td>17540.29</td>\n",
       "    </tr>\n",
       "    <tr>\n",
       "      <th>2010-01-11</th>\n",
       "      <td>17724.59</td>\n",
       "      <td>17776.57</td>\n",
       "      <td>17500.79</td>\n",
       "      <td>17526.71</td>\n",
       "    </tr>\n",
       "    <tr>\n",
       "      <th>2010-01-12</th>\n",
       "      <td>17534.10</td>\n",
       "      <td>17612.00</td>\n",
       "      <td>17392.55</td>\n",
       "      <td>17422.51</td>\n",
       "    </tr>\n",
       "    <tr>\n",
       "      <th>2010-01-13</th>\n",
       "      <td>17368.03</td>\n",
       "      <td>17528.31</td>\n",
       "      <td>17276.46</td>\n",
       "      <td>17509.80</td>\n",
       "    </tr>\n",
       "    <tr>\n",
       "      <th>2010-01-14</th>\n",
       "      <td>17525.71</td>\n",
       "      <td>17628.04</td>\n",
       "      <td>17525.71</td>\n",
       "      <td>17584.87</td>\n",
       "    </tr>\n",
       "    <tr>\n",
       "      <th>2010-01-15</th>\n",
       "      <td>17604.31</td>\n",
       "      <td>17639.85</td>\n",
       "      <td>17529.11</td>\n",
       "      <td>17554.30</td>\n",
       "    </tr>\n",
       "    <tr>\n",
       "      <th>2010-01-18</th>\n",
       "      <td>17538.72</td>\n",
       "      <td>17712.60</td>\n",
       "      <td>17505.50</td>\n",
       "      <td>17641.08</td>\n",
       "    </tr>\n",
       "    <tr>\n",
       "      <th>2010-01-19</th>\n",
       "      <td>17650.82</td>\n",
       "      <td>17664.86</td>\n",
       "      <td>17463.78</td>\n",
       "      <td>17486.06</td>\n",
       "    </tr>\n",
       "    <tr>\n",
       "      <th>2010-01-20</th>\n",
       "      <td>17486.69</td>\n",
       "      <td>17590.59</td>\n",
       "      <td>17425.05</td>\n",
       "      <td>17474.49</td>\n",
       "    </tr>\n",
       "    <tr>\n",
       "      <th>2010-01-21</th>\n",
       "      <td>17474.49</td>\n",
       "      <td>17474.49</td>\n",
       "      <td>17025.26</td>\n",
       "      <td>17051.14</td>\n",
       "    </tr>\n",
       "    <tr>\n",
       "      <th>2010-01-22</th>\n",
       "      <td>16978.36</td>\n",
       "      <td>17000.33</td>\n",
       "      <td>16608.09</td>\n",
       "      <td>16859.68</td>\n",
       "    </tr>\n",
       "    <tr>\n",
       "      <th>2010-01-25</th>\n",
       "      <td>16847.70</td>\n",
       "      <td>16877.77</td>\n",
       "      <td>16705.56</td>\n",
       "      <td>16780.46</td>\n",
       "    </tr>\n",
       "    <tr>\n",
       "      <th>2010-01-27</th>\n",
       "      <td>16708.60</td>\n",
       "      <td>16708.60</td>\n",
       "      <td>16230.85</td>\n",
       "      <td>16289.82</td>\n",
       "    </tr>\n",
       "    <tr>\n",
       "      <th>2010-01-28</th>\n",
       "      <td>16317.16</td>\n",
       "      <td>16524.69</td>\n",
       "      <td>16182.14</td>\n",
       "      <td>16306.87</td>\n",
       "    </tr>\n",
       "    <tr>\n",
       "      <th>2010-01-29</th>\n",
       "      <td>16253.82</td>\n",
       "      <td>16390.31</td>\n",
       "      <td>15982.08</td>\n",
       "      <td>16357.96</td>\n",
       "    </tr>\n",
       "  </tbody>\n",
       "</table>\n",
       "</div>"
      ],
      "text/plain": [
       "                Open      High       Low     Close\n",
       "Date                                              \n",
       "2010-01-04  17473.45  17582.84  17378.38  17558.73\n",
       "2010-01-05  17555.77  17729.78  17555.77  17686.24\n",
       "2010-01-06  17719.47  17790.33  17636.71  17701.13\n",
       "2010-01-07  17701.97  17733.34  17566.54  17615.72\n",
       "2010-01-08  17603.87  17658.12  17508.96  17540.29\n",
       "2010-01-11  17724.59  17776.57  17500.79  17526.71\n",
       "2010-01-12  17534.10  17612.00  17392.55  17422.51\n",
       "2010-01-13  17368.03  17528.31  17276.46  17509.80\n",
       "2010-01-14  17525.71  17628.04  17525.71  17584.87\n",
       "2010-01-15  17604.31  17639.85  17529.11  17554.30\n",
       "2010-01-18  17538.72  17712.60  17505.50  17641.08\n",
       "2010-01-19  17650.82  17664.86  17463.78  17486.06\n",
       "2010-01-20  17486.69  17590.59  17425.05  17474.49\n",
       "2010-01-21  17474.49  17474.49  17025.26  17051.14\n",
       "2010-01-22  16978.36  17000.33  16608.09  16859.68\n",
       "2010-01-25  16847.70  16877.77  16705.56  16780.46\n",
       "2010-01-27  16708.60  16708.60  16230.85  16289.82\n",
       "2010-01-28  16317.16  16524.69  16182.14  16306.87\n",
       "2010-01-29  16253.82  16390.31  15982.08  16357.96"
      ]
     },
     "execution_count": 81,
     "metadata": {},
     "output_type": "execute_result"
    }
   ],
   "source": [
    "df_jan #january dataset created for see the trend in January"
   ]
  },
  {
   "cell_type": "code",
   "execution_count": 82,
   "metadata": {},
   "outputs": [
    {
     "data": {
      "text/plain": [
       "<matplotlib.axes._subplots.AxesSubplot at 0x16e0cb3f808>"
      ]
     },
     "execution_count": 82,
     "metadata": {},
     "output_type": "execute_result"
    },
    {
     "data": {
      "image/png": "[encoded data removed]",
      "text/plain": [
       "<Figure size 432x288 with 1 Axes>"
      ]
     },
     "metadata": {
      "needs_background": "light"
     },
     "output_type": "display_data"
    }
   ],
   "source": [
    "sns.distplot(df_jan[\"Open\"])"
   ]
  },
  {
   "cell_type": "code",
   "execution_count": 83,
   "metadata": {},
   "outputs": [
    {
     "data": {
      "text/plain": [
       "Date\n",
       "2010-01-31    17260.413684\n",
       "2010-02-28    16183.805000\n",
       "2010-03-31    17302.716190\n",
       "2010-04-30    17678.640000\n",
       "2010-05-31    16844.535238\n",
       "                  ...     \n",
       "2019-11-30    40513.094500\n",
       "2019-12-31    41054.449048\n",
       "2020-01-31    41360.947826\n",
       "2020-02-29    40674.324000\n",
       "2020-03-31    38244.886000\n",
       "Freq: M, Name: Close, Length: 123, dtype: float64"
      ]
     },
     "execution_count": 83,
     "metadata": {},
     "output_type": "execute_result"
    }
   ],
   "source": [
    "#resmapling data on a monthly frequency with avg close price every month end\n",
    "df.Close.resample(\"M\").mean()"
   ]
  },
  {
   "cell_type": "code",
   "execution_count": 84,
   "metadata": {},
   "outputs": [
    {
     "data": {
      "text/plain": [
       "<matplotlib.axes._subplots.AxesSubplot at 0x16e0cb9b648>"
      ]
     },
     "execution_count": 84,
     "metadata": {},
     "output_type": "execute_result"
    },
    {
     "data": {
      "image/png": "[encoded data removed]",
      "text/plain": [
       "<Figure size 720x720 with 2 Axes>"
      ]
     },
     "metadata": {
      "needs_background": "light"
     },
     "output_type": "display_data"
    }
   ],
   "source": [
    "#plotting the above data to see the trend\n",
    "plt.figure(figsize=(10,10))\n",
    "plt.subplot(2,2,1)\n",
    "df.Close.resample(\"M\").mean().plot()\n",
    "plt.subplot(2,2,2)\n",
    "#lets plot data quarterly\n",
    "df.Close.resample(\"Q\").mean().plot()"
   ]
  },
  {
   "cell_type": "code",
   "execution_count": 91,
   "metadata": {},
   "outputs": [
    {
     "data": {
      "text/plain": [
       "Text(0, 0.5, 'close Price')"
      ]
     },
     "execution_count": 91,
     "metadata": {},
     "output_type": "execute_result"
    },
    {
     "data": {
      "image/png": "[encoded data removed]",
      "text/plain": [
       "<Figure size 432x288 with 1 Axes>"
      ]
     },
     "metadata": {
      "needs_background": "light"
     },
     "output_type": "display_data"
    }
   ],
   "source": [
    "plt.scatter(df[\"Open\"].values,df[\"Close\"].values)\n",
    "plt.xlabel(\"Open price\")\n",
    "plt.ylabel(\"close Price\")"
   ]
  },
  {
   "cell_type": "code",
   "execution_count": 92,
   "metadata": {},
   "outputs": [
    {
     "data": {
      "text/plain": [
       "<matplotlib.axes._subplots.AxesSubplot at 0x16e0d123b48>"
      ]
     },
     "execution_count": 92,
     "metadata": {},
     "output_type": "execute_result"
    },
    {
     "data": {
      "image/png": "[encoded data removed]",
      "text/plain": [
       "<Figure size 432x288 with 1 Axes>"
      ]
     },
     "metadata": {
      "needs_background": "light"
     },
     "output_type": "display_data"
    }
   ],
   "source": [
    "sns.lineplot(df[\"Open\"],df[\"Close\"],data=df,color=\"r\")"
   ]
  },
  {
   "cell_type": "markdown",
   "metadata": {},
   "source": [
    "Lets look at the datato predict the close point of the same "
   ]
  },
  {
   "cell_type": "code",
   "execution_count": 93,
   "metadata": {},
   "outputs": [
    {
     "data": {
      "text/html": [
       "<div>\n",
       "<style scoped>\n",
       "    .dataframe tbody tr th:only-of-type {\n",
       "        vertical-align: middle;\n",
       "    }\n",
       "\n",
       "    .dataframe tbody tr th {\n",
       "        vertical-align: top;\n",
       "    }\n",
       "\n",
       "    .dataframe thead th {\n",
       "        text-align: right;\n",
       "    }\n",
       "</style>\n",
       "<table border=\"1\" class=\"dataframe\">\n",
       "  <thead>\n",
       "    <tr style=\"text-align: right;\">\n",
       "      <th></th>\n",
       "      <th>Open</th>\n",
       "      <th>High</th>\n",
       "      <th>Low</th>\n",
       "      <th>Close</th>\n",
       "    </tr>\n",
       "    <tr>\n",
       "      <th>Date</th>\n",
       "      <th></th>\n",
       "      <th></th>\n",
       "      <th></th>\n",
       "      <th></th>\n",
       "    </tr>\n",
       "  </thead>\n",
       "  <tbody>\n",
       "    <tr>\n",
       "      <th>2010-01-04</th>\n",
       "      <td>17473.45</td>\n",
       "      <td>17582.84</td>\n",
       "      <td>17378.38</td>\n",
       "      <td>17558.73</td>\n",
       "    </tr>\n",
       "    <tr>\n",
       "      <th>2010-01-05</th>\n",
       "      <td>17555.77</td>\n",
       "      <td>17729.78</td>\n",
       "      <td>17555.77</td>\n",
       "      <td>17686.24</td>\n",
       "    </tr>\n",
       "    <tr>\n",
       "      <th>2010-01-06</th>\n",
       "      <td>17719.47</td>\n",
       "      <td>17790.33</td>\n",
       "      <td>17636.71</td>\n",
       "      <td>17701.13</td>\n",
       "    </tr>\n",
       "    <tr>\n",
       "      <th>2010-01-07</th>\n",
       "      <td>17701.97</td>\n",
       "      <td>17733.34</td>\n",
       "      <td>17566.54</td>\n",
       "      <td>17615.72</td>\n",
       "    </tr>\n",
       "    <tr>\n",
       "      <th>2010-01-08</th>\n",
       "      <td>17603.87</td>\n",
       "      <td>17658.12</td>\n",
       "      <td>17508.96</td>\n",
       "      <td>17540.29</td>\n",
       "    </tr>\n",
       "  </tbody>\n",
       "</table>\n",
       "</div>"
      ],
      "text/plain": [
       "                Open      High       Low     Close\n",
       "Date                                              \n",
       "2010-01-04  17473.45  17582.84  17378.38  17558.73\n",
       "2010-01-05  17555.77  17729.78  17555.77  17686.24\n",
       "2010-01-06  17719.47  17790.33  17636.71  17701.13\n",
       "2010-01-07  17701.97  17733.34  17566.54  17615.72\n",
       "2010-01-08  17603.87  17658.12  17508.96  17540.29"
      ]
     },
     "execution_count": 93,
     "metadata": {},
     "output_type": "execute_result"
    }
   ],
   "source": [
    "df.head()"
   ]
  },
  {
   "cell_type": "code",
   "execution_count": 97,
   "metadata": {},
   "outputs": [
    {
     "data": {
      "text/html": [
       "<div>\n",
       "<style scoped>\n",
       "    .dataframe tbody tr th:only-of-type {\n",
       "        vertical-align: middle;\n",
       "    }\n",
       "\n",
       "    .dataframe tbody tr th {\n",
       "        vertical-align: top;\n",
       "    }\n",
       "\n",
       "    .dataframe thead th {\n",
       "        text-align: right;\n",
       "    }\n",
       "</style>\n",
       "<table border=\"1\" class=\"dataframe\">\n",
       "  <thead>\n",
       "    <tr style=\"text-align: right;\">\n",
       "      <th></th>\n",
       "      <th>Open</th>\n",
       "      <th>High</th>\n",
       "      <th>Low</th>\n",
       "    </tr>\n",
       "  </thead>\n",
       "  <tbody>\n",
       "    <tr>\n",
       "      <th>Open</th>\n",
       "      <td>1.000000</td>\n",
       "      <td>0.999861</td>\n",
       "      <td>0.999790</td>\n",
       "    </tr>\n",
       "    <tr>\n",
       "      <th>High</th>\n",
       "      <td>0.999861</td>\n",
       "      <td>1.000000</td>\n",
       "      <td>0.999793</td>\n",
       "    </tr>\n",
       "    <tr>\n",
       "      <th>Low</th>\n",
       "      <td>0.999790</td>\n",
       "      <td>0.999793</td>\n",
       "      <td>1.000000</td>\n",
       "    </tr>\n",
       "  </tbody>\n",
       "</table>\n",
       "</div>"
      ],
      "text/plain": [
       "          Open      High       Low\n",
       "Open  1.000000  0.999861  0.999790\n",
       "High  0.999861  1.000000  0.999793\n",
       "Low   0.999790  0.999793  1.000000"
      ]
     },
     "execution_count": 97,
     "metadata": {},
     "output_type": "execute_result"
    }
   ],
   "source": [
    "#feature correlation\n",
    "df1=df[[\"Open\",\"High\",\"Low\"]]\n",
    "df1.corr()"
   ]
  },
  {
   "cell_type": "code",
   "execution_count": 119,
   "metadata": {},
   "outputs": [],
   "source": [
    "#Data is highly correlated hence it will give us a bad model so use only 1 feature\n",
    "X=df.drop([\"Close\", \"High\"], axis=1).values"
   ]
  },
  {
   "cell_type": "code",
   "execution_count": 118,
   "metadata": {},
   "outputs": [
    {
     "data": {
      "text/html": [
       "<div>\n",
       "<style scoped>\n",
       "    .dataframe tbody tr th:only-of-type {\n",
       "        vertical-align: middle;\n",
       "    }\n",
       "\n",
       "    .dataframe tbody tr th {\n",
       "        vertical-align: top;\n",
       "    }\n",
       "\n",
       "    .dataframe thead th {\n",
       "        text-align: right;\n",
       "    }\n",
       "</style>\n",
       "<table border=\"1\" class=\"dataframe\">\n",
       "  <thead>\n",
       "    <tr style=\"text-align: right;\">\n",
       "      <th></th>\n",
       "      <th>Open</th>\n",
       "      <th>Low</th>\n",
       "    </tr>\n",
       "    <tr>\n",
       "      <th>Date</th>\n",
       "      <th></th>\n",
       "      <th></th>\n",
       "    </tr>\n",
       "  </thead>\n",
       "  <tbody>\n",
       "    <tr>\n",
       "      <th>2010-01-04</th>\n",
       "      <td>17473.45</td>\n",
       "      <td>17378.38</td>\n",
       "    </tr>\n",
       "    <tr>\n",
       "      <th>2010-01-05</th>\n",
       "      <td>17555.77</td>\n",
       "      <td>17555.77</td>\n",
       "    </tr>\n",
       "    <tr>\n",
       "      <th>2010-01-06</th>\n",
       "      <td>17719.47</td>\n",
       "      <td>17636.71</td>\n",
       "    </tr>\n",
       "    <tr>\n",
       "      <th>2010-01-07</th>\n",
       "      <td>17701.97</td>\n",
       "      <td>17566.54</td>\n",
       "    </tr>\n",
       "    <tr>\n",
       "      <th>2010-01-08</th>\n",
       "      <td>17603.87</td>\n",
       "      <td>17508.96</td>\n",
       "    </tr>\n",
       "    <tr>\n",
       "      <th>...</th>\n",
       "      <td>...</td>\n",
       "      <td>...</td>\n",
       "    </tr>\n",
       "    <tr>\n",
       "      <th>2020-03-02</th>\n",
       "      <td>38910.95</td>\n",
       "      <td>37785.99</td>\n",
       "    </tr>\n",
       "    <tr>\n",
       "      <th>2020-03-03</th>\n",
       "      <td>38480.89</td>\n",
       "      <td>38142.30</td>\n",
       "    </tr>\n",
       "    <tr>\n",
       "      <th>2020-03-04</th>\n",
       "      <td>38715.72</td>\n",
       "      <td>37846.10</td>\n",
       "    </tr>\n",
       "    <tr>\n",
       "      <th>2020-03-05</th>\n",
       "      <td>38604.25</td>\n",
       "      <td>38386.68</td>\n",
       "    </tr>\n",
       "    <tr>\n",
       "      <th>2020-03-06</th>\n",
       "      <td>37613.96</td>\n",
       "      <td>37011.09</td>\n",
       "    </tr>\n",
       "  </tbody>\n",
       "</table>\n",
       "<p>2526 rows × 2 columns</p>\n",
       "</div>"
      ],
      "text/plain": [
       "                Open       Low\n",
       "Date                          \n",
       "2010-01-04  17473.45  17378.38\n",
       "2010-01-05  17555.77  17555.77\n",
       "2010-01-06  17719.47  17636.71\n",
       "2010-01-07  17701.97  17566.54\n",
       "2010-01-08  17603.87  17508.96\n",
       "...              ...       ...\n",
       "2020-03-02  38910.95  37785.99\n",
       "2020-03-03  38480.89  38142.30\n",
       "2020-03-04  38715.72  37846.10\n",
       "2020-03-05  38604.25  38386.68\n",
       "2020-03-06  37613.96  37011.09\n",
       "\n",
       "[2526 rows x 2 columns]"
      ]
     },
     "execution_count": 118,
     "metadata": {},
     "output_type": "execute_result"
    }
   ],
   "source": [
    "X"
   ]
  },
  {
   "cell_type": "code",
   "execution_count": 120,
   "metadata": {},
   "outputs": [
    {
     "data": {
      "text/plain": [
       "(2526,)"
      ]
     },
     "execution_count": 120,
     "metadata": {},
     "output_type": "execute_result"
    }
   ],
   "source": [
    "#Label\n",
    "y=df[\"High\"]\n",
    "y.shape"
   ]
  },
  {
   "cell_type": "code",
   "execution_count": 121,
   "metadata": {},
   "outputs": [],
   "source": [
    "#train test and split\n",
    "from sklearn.model_selection import train_test_split\n",
    "X_train,X_test,y_train,y_test= train_test_split(X,y,test_size=0.2,random_state=1)"
   ]
  },
  {
   "cell_type": "code",
   "execution_count": 32,
   "metadata": {},
   "outputs": [],
   "source": [
    "#lets  do the feature scaling for an acurate model\n",
    "#from sklearn.preprocessing import MinMaxScaler\n",
    "#mm=MinMaxScaler()\n",
    "#mm.fit(X_train,y_train)"
   ]
  },
  {
   "cell_type": "code",
   "execution_count": 122,
   "metadata": {},
   "outputs": [
    {
     "data": {
      "text/plain": [
       "LinearRegression(copy_X=True, fit_intercept=True, n_jobs=None, normalize=True)"
      ]
     },
     "execution_count": 122,
     "metadata": {},
     "output_type": "execute_result"
    }
   ],
   "source": [
    "from sklearn.linear_model import LinearRegression\n",
    "lreg=LinearRegression(normalize=True)\n",
    "lreg.fit(X_train,y_train)"
   ]
  },
  {
   "cell_type": "code",
   "execution_count": 123,
   "metadata": {},
   "outputs": [
    {
     "data": {
      "text/plain": [
       "array([17705.55123088, 20954.06381408, 19028.55198277, 18841.85412373,\n",
       "       17436.69767089, 27690.12338292, 18790.36785834, 16853.04303284,\n",
       "       33807.73739626, 18785.70741264])"
      ]
     },
     "execution_count": 123,
     "metadata": {},
     "output_type": "execute_result"
    }
   ],
   "source": [
    "y_pred=lreg.predict(X_test)\n",
    "y_pred[:10]"
   ]
  },
  {
   "cell_type": "code",
   "execution_count": 124,
   "metadata": {},
   "outputs": [
    {
     "data": {
      "text/plain": [
       "<matplotlib.axes._subplots.AxesSubplot at 0x16e0d64d1c8>"
      ]
     },
     "execution_count": 124,
     "metadata": {},
     "output_type": "execute_result"
    },
    {
     "data": {
      "image/png": "[encoded data removed]",
      "text/plain": [
       "<Figure size 432x288 with 1 Axes>"
      ]
     },
     "metadata": {
      "needs_background": "light"
     },
     "output_type": "display_data"
    }
   ],
   "source": [
    "sns.lineplot(y_test,y_pred)"
   ]
  },
  {
   "cell_type": "code",
   "execution_count": 125,
   "metadata": {},
   "outputs": [
    {
     "data": {
      "text/plain": [
       "0.9998154116308342"
      ]
     },
     "execution_count": 125,
     "metadata": {},
     "output_type": "execute_result"
    }
   ],
   "source": [
    "lreg.score(X_test,y_test)  "
   ]
  },
  {
   "cell_type": "code",
   "execution_count": 126,
   "metadata": {},
   "outputs": [
    {
     "data": {
      "text/plain": [
       "0.9997566720964303"
      ]
     },
     "execution_count": 126,
     "metadata": {},
     "output_type": "execute_result"
    }
   ],
   "source": [
    "lreg.score(X_train,y_train)"
   ]
  },
  {
   "cell_type": "code",
   "execution_count": 127,
   "metadata": {},
   "outputs": [],
   "source": [
    "X = df.drop([\"Close\", \"Low\"], axis=1).values\n",
    "y1=df[\"Low\"]"
   ]
  },
  {
   "cell_type": "code",
   "execution_count": 128,
   "metadata": {},
   "outputs": [
    {
     "data": {
      "text/plain": [
       "0.9997158076552554"
      ]
     },
     "execution_count": 128,
     "metadata": {},
     "output_type": "execute_result"
    }
   ],
   "source": [
    "from sklearn.model_selection import train_test_split\n",
    "X_train,X_test,y1_train,y1_test= train_test_split(X,y1,test_size=0.2,random_state=1)\n",
    "\n",
    "from sklearn.linear_model import LinearRegression\n",
    "model=LinearRegression()\n",
    "model.fit(X_train,y1_train)\n",
    "\n",
    "y1_pred=model.predict(X_test)\n",
    "y1_pred\n",
    "\n",
    "model.score(X_test,y1_test)  \n"
   ]
  },
  {
   "cell_type": "code",
   "execution_count": 130,
   "metadata": {},
   "outputs": [
    {
     "data": {
      "text/plain": [
       "['./app/app/models/high.pkl']"
      ]
     },
     "execution_count": 130,
     "metadata": {},
     "output_type": "execute_result"
    }
   ],
   "source": [
    "import joblib\n",
    "joblib.dump(model, './app/app/models/low.pkl') \n",
    "  \n",
    "from sklearn.externals import joblib \n",
    "joblib.dump(lreg, './app/app/models/high.pkl') "
   ]
  },
  {
   "cell_type": "code",
   "execution_count": 52,
   "metadata": {},
   "outputs": [],
   "source": [
    "import pickle \n",
    "saved_model = pickle.dumps(model) \n",
    "lreg_from_pickle = pickle.loads(saved_model) "
   ]
  },
  {
   "cell_type": "code",
   "execution_count": null,
   "metadata": {},
   "outputs": [],
   "source": []
  },
  {
   "cell_type": "code",
   "execution_count": null,
   "metadata": {},
   "outputs": [],
   "source": []
  }
 ],
 "metadata": {
  "kernelspec": {
   "display_name": "Python 3",
   "language": "python",
   "name": "python3"
  },
  "language_info": {
   "codemirror_mode": {
    "name": "ipython",
    "version": 3
   },
   "file_extension": ".py",
   "mimetype": "text/x-python",
   "name": "python",
   "nbconvert_exporter": "python",
   "pygments_lexer": "ipython3",
   "version": "3.7.6"
  }
 },
 "nbformat": 4,
 "nbformat_minor": 1
}
